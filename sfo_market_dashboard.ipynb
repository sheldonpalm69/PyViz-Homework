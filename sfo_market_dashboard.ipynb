{
 "cells": [
  {
   "cell_type": "markdown",
   "metadata": {},
   "source": [
    "# San Francisco Rental Prices Dashboard\n",
    "\n",
    "In this notebook, you will compile the visualizations from the previous analysis into functions that can be used for a Panel dashboard."
   ]
  },
  {
   "cell_type": "code",
   "execution_count": 17,
   "metadata": {},
   "outputs": [],
   "source": [
    "# imports\n",
    "import panel as pn\n",
    "pn.extension('plotly')\n",
    "import plotly.express as px\n",
    "import pandas as pd\n",
    "import hvplot.pandas\n",
    "import matplotlib.pyplot as plt\n",
    "import os\n",
    "from pathlib import Path\n",
    "from dotenv import load_dotenv"
   ]
  },
  {
   "cell_type": "code",
   "execution_count": 18,
   "metadata": {},
   "outputs": [],
   "source": [
    "# Read the Mapbox API key\n",
    "load_dotenv()\n",
    "map_box_api = os.getenv(\"mapbox\")\n",
    "px.set_mapbox_access_token(map_box_api)"
   ]
  },
  {
   "cell_type": "markdown",
   "metadata": {},
   "source": [
    "# Import Data"
   ]
  },
  {
   "cell_type": "code",
   "execution_count": 19,
   "metadata": {},
   "outputs": [
    {
     "data": {
      "text/html": [
       "<div>\n",
       "<style scoped>\n",
       "    .dataframe tbody tr th:only-of-type {\n",
       "        vertical-align: middle;\n",
       "    }\n",
       "\n",
       "    .dataframe tbody tr th {\n",
       "        vertical-align: top;\n",
       "    }\n",
       "\n",
       "    .dataframe thead th {\n",
       "        text-align: right;\n",
       "    }\n",
       "</style>\n",
       "<table border=\"1\" class=\"dataframe\">\n",
       "  <thead>\n",
       "    <tr style=\"text-align: right;\">\n",
       "      <th></th>\n",
       "      <th>neighborhood</th>\n",
       "      <th>sale_price_sqr_foot</th>\n",
       "      <th>housing_units</th>\n",
       "      <th>gross_rent</th>\n",
       "    </tr>\n",
       "    <tr>\n",
       "      <th>year</th>\n",
       "      <th></th>\n",
       "      <th></th>\n",
       "      <th></th>\n",
       "      <th></th>\n",
       "    </tr>\n",
       "  </thead>\n",
       "  <tbody>\n",
       "    <tr>\n",
       "      <th>2010</th>\n",
       "      <td>Alamo Square</td>\n",
       "      <td>291.182945</td>\n",
       "      <td>372560</td>\n",
       "      <td>1239</td>\n",
       "    </tr>\n",
       "    <tr>\n",
       "      <th>2010</th>\n",
       "      <td>Anza Vista</td>\n",
       "      <td>267.932583</td>\n",
       "      <td>372560</td>\n",
       "      <td>1239</td>\n",
       "    </tr>\n",
       "    <tr>\n",
       "      <th>2010</th>\n",
       "      <td>Bayview</td>\n",
       "      <td>170.098665</td>\n",
       "      <td>372560</td>\n",
       "      <td>1239</td>\n",
       "    </tr>\n",
       "    <tr>\n",
       "      <th>2010</th>\n",
       "      <td>Buena Vista Park</td>\n",
       "      <td>347.394919</td>\n",
       "      <td>372560</td>\n",
       "      <td>1239</td>\n",
       "    </tr>\n",
       "    <tr>\n",
       "      <th>2010</th>\n",
       "      <td>Central Richmond</td>\n",
       "      <td>319.027623</td>\n",
       "      <td>372560</td>\n",
       "      <td>1239</td>\n",
       "    </tr>\n",
       "  </tbody>\n",
       "</table>\n",
       "</div>"
      ],
      "text/plain": [
       "          neighborhood  sale_price_sqr_foot  housing_units  gross_rent\n",
       "year                                                                  \n",
       "2010      Alamo Square           291.182945         372560        1239\n",
       "2010        Anza Vista           267.932583         372560        1239\n",
       "2010           Bayview           170.098665         372560        1239\n",
       "2010  Buena Vista Park           347.394919         372560        1239\n",
       "2010  Central Richmond           319.027623         372560        1239"
      ]
     },
     "execution_count": 19,
     "metadata": {},
     "output_type": "execute_result"
    }
   ],
   "source": [
    "# Import the necessary CSVs to Pandas DataFrames\n",
    "# Read the census data into a Pandas DataFrame\n",
    "file_path = Path(\"sfo_census_data.csv\")\n",
    "sfo_data = pd.read_csv(file_path, index_col=\"year\")\n",
    "sfo_data.head()"
   ]
  },
  {
   "cell_type": "markdown",
   "metadata": {},
   "source": [
    "- - -"
   ]
  },
  {
   "cell_type": "code",
   "execution_count": 20,
   "metadata": {},
   "outputs": [
    {
     "data": {
      "text/html": [
       "<div>\n",
       "<style scoped>\n",
       "    .dataframe tbody tr th:only-of-type {\n",
       "        vertical-align: middle;\n",
       "    }\n",
       "\n",
       "    .dataframe tbody tr th {\n",
       "        vertical-align: top;\n",
       "    }\n",
       "\n",
       "    .dataframe thead th {\n",
       "        text-align: right;\n",
       "    }\n",
       "</style>\n",
       "<table border=\"1\" class=\"dataframe\">\n",
       "  <thead>\n",
       "    <tr style=\"text-align: right;\">\n",
       "      <th></th>\n",
       "      <th>Neighborhood</th>\n",
       "      <th>Lat</th>\n",
       "      <th>Lon</th>\n",
       "    </tr>\n",
       "  </thead>\n",
       "  <tbody>\n",
       "    <tr>\n",
       "      <th>0</th>\n",
       "      <td>Alamo Square</td>\n",
       "      <td>37.791012</td>\n",
       "      <td>-122.402100</td>\n",
       "    </tr>\n",
       "    <tr>\n",
       "      <th>1</th>\n",
       "      <td>Anza Vista</td>\n",
       "      <td>37.779598</td>\n",
       "      <td>-122.443451</td>\n",
       "    </tr>\n",
       "    <tr>\n",
       "      <th>2</th>\n",
       "      <td>Bayview</td>\n",
       "      <td>37.734670</td>\n",
       "      <td>-122.401060</td>\n",
       "    </tr>\n",
       "    <tr>\n",
       "      <th>3</th>\n",
       "      <td>Bayview Heights</td>\n",
       "      <td>37.728740</td>\n",
       "      <td>-122.410980</td>\n",
       "    </tr>\n",
       "    <tr>\n",
       "      <th>4</th>\n",
       "      <td>Bernal Heights</td>\n",
       "      <td>37.728630</td>\n",
       "      <td>-122.443050</td>\n",
       "    </tr>\n",
       "  </tbody>\n",
       "</table>\n",
       "</div>"
      ],
      "text/plain": [
       "      Neighborhood        Lat         Lon\n",
       "0     Alamo Square  37.791012 -122.402100\n",
       "1       Anza Vista  37.779598 -122.443451\n",
       "2          Bayview  37.734670 -122.401060\n",
       "3  Bayview Heights  37.728740 -122.410980\n",
       "4   Bernal Heights  37.728630 -122.443050"
      ]
     },
     "execution_count": 20,
     "metadata": {},
     "output_type": "execute_result"
    }
   ],
   "source": [
    "# Load neighborhoods coordinates data\n",
    "# Read the Mapbox API key\n",
    "load_dotenv('sample.env')\n",
    "map_box_api = os.getenv(\"mapbox\")\n",
    "\n",
    "# Set token using Plotly Express set function\n",
    "px.set_mapbox_access_token(map_box_api)\n",
    "\n",
    "# Read in data\n",
    "sfo_map = pd.read_csv(Path(\"sfo_neighborhoods_coordinates.csv\")).drop_duplicates()\n",
    "\n",
    "sfo_map.head()"
   ]
  },
  {
   "cell_type": "markdown",
   "metadata": {},
   "source": [
    "## Panel Visualizations\n",
    "\n",
    "In this section, you will copy the code for each plot type from your analysis notebook and place it into separate functions that Panel can use to create panes for the dashboard. \n",
    "\n",
    "These functions will convert the plot object to a Panel pane.\n",
    "\n",
    "Be sure to include any DataFrame transformation/manipulation code required along with the plotting code.\n",
    "\n",
    "Return a Panel pane object from each function that can be used to build the dashboard.\n",
    "\n",
    "Note: Remove any `.show()` lines from the code. We want to return the plots instead of showing them. The Panel dashboard will then display the plots."
   ]
  },
  {
   "cell_type": "code",
   "execution_count": 22,
   "metadata": {},
   "outputs": [
    {
     "ename": "SyntaxError",
     "evalue": "invalid syntax (<ipython-input-22-2586197e0bdd>, line 120)",
     "output_type": "error",
     "traceback": [
      "\u001b[1;36m  File \u001b[1;32m\"<ipython-input-22-2586197e0bdd>\"\u001b[1;36m, line \u001b[1;32m120\u001b[0m\n\u001b[1;33m    mapplot_neighborhood = px.scatter_mapbox(\u001b[0m\n\u001b[1;37m                       ^\u001b[0m\n\u001b[1;31mSyntaxError\u001b[0m\u001b[1;31m:\u001b[0m invalid syntax\n"
     ]
    }
   ],
   "source": [
    "# Define Panel Visualization Functions\n",
    "def housing_units_per_year():\n",
    "    \"\"\"Housing Units Per Year.\"\"\"\n",
    "    housing_units_per_year = sfo_data[\"housing_units\"]\n",
    "    mean_housing_units_per_year = total_housing_units_per_year.groupby(\"year\").mean()\n",
    "        \n",
    "    housing_units_fig = plt.figure()\n",
    "    housing_units_plot = mean_housing_units_per_year.plot.bar(label=\" Housing Units per Year\", ylim=[370000, 385000])\n",
    "    \n",
    "    plt.close(housing_units_fig)\n",
    "    \n",
    "    return pn.pane.Matplotlib(housing_unit_fig)\n",
    "    \n",
    "\n",
    "def average_gross_rent():\n",
    "    \"\"\"Average Gross Rent in San Francisco Per Year.\"\"\"\n",
    "    gross_rent = sfo_data[\"gross_rent\"]\n",
    "    average_gross_rent = average_gross_rent.groupby(\"year\").mean()\n",
    "\n",
    "    gross_rent_fig = plt.figure()\n",
    "    gross_rent_plot = avg_gross_rent.plot.line(label = \"Average Gross Rent\", line_color = \"red\")\n",
    "    \n",
    "    plt.close(gross_rent_fig)\n",
    "    \n",
    "    return pn.pane.Matplotlib(gross_rent_fig)\n",
    "\n",
    "\n",
    "def average_sales_price():\n",
    "    \"\"\"Average Sales Price Per Year.\"\"\"\n",
    "    sale_price_sqt = sfo_data[\"sale_price_sqr_foot\"]\n",
    "    average_sales_price_sqt = sale_price_sqt.groupby(\"year\").mean()\n",
    "    \n",
    "    avg_sales_fig = plt.figure()\n",
    "    avg_sales_plot = average_sales_price_sqt.plot.line(label = \"Average Sales Price per SQ Foot\")\n",
    "    \n",
    "    plt.close(avg_sales_fig)\n",
    "    \n",
    "    return pn.pane.Matplotlib(avg_sales_fig)\n",
    "\n",
    "\n",
    "def average_price_by_neighborhood():\n",
    "    \"\"\"Average Prices by Neighborhood.\"\"\"\n",
    "    average_prices_by_neighborhood = sfo_data[[\"neighborhood\", \"gross_rent\"]]\n",
    "    average_prices_by_neighborhood = average_prices_by_neighborhood.groupby(\"neighborhood\").mean()\n",
    "    \n",
    "\n",
    "    average_prices_by_neighborhood_plot = average_prices_by_neighborhood.hvplot.line(label = \"Average Prices by Neighborhood\",rot=45, width =1000)\n",
    "    \n",
    "    return average_prices_by_neighborhood_plot\n",
    "\n",
    "\n",
    "def top_most_expensive_neighborhoods():\n",
    "    \"\"\"Top 10 Most Expensive Neighborhoods.\"\"\"\n",
    "    top_ten_by_neighborhood = sfo_data[[\"neighborhood\", \"gross_rent\"]]\n",
    "    top_ten_by_neighborhood = top_ten_by_neighborhood.groupby(\"neighborhood\").mean().sort_values(by='gross_rent', ascending=False).iloc[:10]\n",
    "    \n",
    "    top_ten_by_neighborhood_plot = top_ten_by_neighborhood.hvplot.bar(label = \"Top Ten Most Expensive Neighborhood\", rot =45, width = 600)\n",
    "    \n",
    "    return top_ten_by_neighborhood_plot\n",
    "\n",
    "\n",
    "def most_expensive_neighborhoods_rent_sales():\n",
    "    \"\"\"Comparison of Rent and Sales Prices of Most Expensive Neighborhoods.\"\"\"   \n",
    "    expensive_neighborhoods = sfo_data.groupby(by=\"neighborhood\").mean()\n",
    "    expensive_neighborhoods = expensive_neighborhoods.sort_values(by=\"sale_price_sqr_foot\", ascending=False)\n",
    "    expensive_neighborhoods = expensive_neighborhoods.reset_index()\n",
    "\n",
    "    expensive_neighborhood_plot = expensive_neighborhoods.hvplot(label= \"Most Expensive Rent & Sales Comparison\", rot=45)\n",
    "    \n",
    "    return expensive_neighborhood_plot\n",
    "\n",
    "   \n",
    "    \n",
    "def parallel_coordinates():\n",
    "    \"\"\"Parallel Coordinates Plot.\"\"\"\n",
    "    expensive_neighborhoods = sfo_data.groupby(by=\"neighborhood\").mean()\n",
    "    expensive_neighborhoods = expensive_neighborhoods.sort_values(by=\"sale_price_sqr_foot\", ascending=False)\n",
    "    expensive_neighborhoods = expensive_neighborhoods.reset_index()\n",
    "\n",
    "    parallel_coordinates_plot = px.parallel_coordinates(expensive_neighborhoods, color='sale_price_sqr_foot')\n",
    "\n",
    "\n",
    "    return parallel_coordinates_plot\n",
    "\n",
    "  \n",
    "def parallel_categories():\n",
    "    \"\"\"Parallel Categories Plot.\"\"\"\n",
    "    expensive_neighborhoods = sfo_data.groupby(by=\"neighborhood\").mean()\n",
    "    expensive_neighborhoods = expensive_neighborhoods.sort_values(by=\"sale_price_sqr_foot\", ascending=False)\n",
    "    expensive_neighborhoods = expensive_neighborhoods.reset_index()\n",
    "        \n",
    "    parallel_categories_plot = px.parallel_categories(\n",
    "    expensive_neighborhoods,\n",
    "    dimensions = ['neighborhood', 'sale_price_sqr_foot', 'housing_units', 'gross_rent'],\n",
    "    title='Most Expensive Neighborhoods in San Fransisco',\n",
    "    color='sale_price_sqr_foot',\n",
    "    color_continuous_scale=px.colors.sequential.Inferno,\n",
    "    labels={\n",
    "        \"neighborhood\": \"Neighborhood\",\n",
    "        \"sale_price_sqr_foot\": \"Sales Price Per SqFt\",\n",
    "        \"housing_units\": \"Number of Houing Units\",\n",
    "        \"gross_rent\": \"Gross Rent\"})\n",
    "\n",
    "    return parallel_categories_plot\n",
    "\n",
    "    \n",
    "def neighborhood_map():\n",
    "    \"\"\"Neighborhood Map.\"\"\"\n",
    "    average_prices_by_neighborhood = sfo_data[[\"neighborhood\",\"sale_price_sqr_foot\", \"housing_units\", \"gross_rent\"]]\n",
    "    average_prices_by_neighborhood = average_prices_by_neighborhood.groupby(\"neighborhood\").mean()\n",
    "\n",
    "    sfo_coordinates = pd.read_csv(\"sfo_neighborhoods_coordinates.csv\").drop_duplicates()\n",
    "\n",
    "    sfo_sales_map = (\n",
    "    pd.concat([area_with_index, coordinates_with_index], axis=1, sort=True)\n",
    "    .dropna()\n",
    "    .reset_index()\n",
    "\n",
    "\n",
    "    mapplot_neighborhood = px.scatter_mapbox(\n",
    "    sfo_sales_map,\n",
    "    lat=\"Lat\",\n",
    "    lon=\"Lon\",\n",
    "    color=\"gross_rent\",\n",
    "    text=None,\n",
    "    hover_name=\"index\",\n",
    "    hover_data=None,\n",
    "    custom_data=None,\n",
    "    size=\"sale_price_sqr_foot\",\n",
    "    animation_frame=None,\n",
    "    animation_group=None,\n",
    "    category_orders=None,\n",
    "    labels=\"gross_rent\",\n",
    "    color_discrete_sequence=None,\n",
    "    color_discrete_map=None,\n",
    "    color_continuous_scale=None,\n",
    "    range_color=None,\n",
    "    color_continuous_midpoint=None,\n",
    "    opacity=None,\n",
    "    size_max=None,\n",
    "    zoom=12,\n",
    "    center=None,\n",
    "    mapbox_style=\"carto-positron\",\n",
    "    title=\"San Fransisco Sale Prices\",\n",
    "    template=None,\n",
    "    width=1000,\n",
    "    height=1000,\n",
    "    \n",
    ")\n",
    "    plotly_panel = pn.pane.Plotly(mapplot_neighborhood)\n",
    "    plotly_panel.updates = True\n",
    "    return plotly_panel\n",
    "\n",
    "\n",
    "def sunburst():\n",
    "    \"\"\"Sunburst Plot.\"\"\"\n",
    "    expensive_neighborhoods = sfo_data.groupby(by=\"neighborhood\").mean()\n",
    "    expensive_neighborhoods = expensive_neighborhoods.sort_values(by=\"sale_price_sqr_foot\", ascending=False)\n",
    "    expensive_neighborhoods = expensive_neighborhoods.reset_index()\n",
    "        \n",
    "    expensive_neighborhoods_year = sfo_data[sfo_data[\"neighborhood\"].isin(expensive_neighborhoods[\"neighborhood\"])]\n",
    "    expensive_neighborhoods_year = expensive_neighborhoods_year.reset_index()\n",
    "    expensive_neighborhoods_year = expensive_neighborhoods_year\n",
    "\n",
    "    sunburst_plot = px.sunburst(\n",
    "    expensive_neighborhoods_year,\n",
    "    path=['year', 'neighborhood'],\n",
    "    title='Cost Analisys of Most Expensive Neigborhoods in San Fransisco',\n",
    "    values='sale_price_sqr_foot',\n",
    "    color='gross_rent',\n",
    "    hover_data=['neighborhood'],\n",
    "    height=700,\n",
    "    width=700,\n",
    "    color_continuous_scale='blues',\n",
    "    color_continuous_midpoint=np.average(expensive_neighborhoods_year['gross_rent'],\n",
    "    weights=expensive_neighborhoods_year['sale_price_sqr_foot']))\n",
    "\n",
    "    return sunburst_plot\n"
   ]
  },
  {
   "cell_type": "markdown",
   "metadata": {},
   "source": [
    "## Panel Dashboard\n",
    "\n",
    "In this section, you will combine all of the plots into a single dashboard view using Panel. Be creative with your dashboard design!"
   ]
  },
  {
   "cell_type": "code",
   "execution_count": null,
   "metadata": {},
   "outputs": [],
   "source": [
    "# Create a Title for the Dashboard\n",
    "# YOUR CODE HERE!\n",
    "\n",
    "\n",
    "# Create a tab layout for the dashboard\n",
    "# YOUR CODE HERE!\n",
    "\n",
    "\n",
    "# Create the dashboard\n",
    "# YOUR CODE HERE!"
   ]
  },
  {
   "cell_type": "markdown",
   "metadata": {},
   "source": [
    "## Serve the Panel Dashboard"
   ]
  },
  {
   "cell_type": "code",
   "execution_count": null,
   "metadata": {},
   "outputs": [],
   "source": [
    "# Serve the# dashboard\n",
    "# YOUR CODE HERE!"
   ]
  },
  {
   "cell_type": "markdown",
   "metadata": {},
   "source": [
    "# Debugging\n",
    "\n",
    "Note: Some of the Plotly express plots may not render in the notebook through the panel functions.\n",
    "\n",
    "However, you can test each plot by uncommenting the following code"
   ]
  },
  {
   "cell_type": "code",
   "execution_count": 35,
   "metadata": {},
   "outputs": [],
   "source": [
    "# Define Panel Visualization Functions\n",
    "def housing_units_per_year():\n",
    "    \"\"\"Housing Units Per Year.\"\"\"\n",
    "    housing_units = sfo_data[\"housing_units\"]\n",
    "    housing_units = housing_units.groupby(\"year\").mean()\n",
    "        \n",
    "    housing_units_fig = plt.figure()\n",
    "    housing_units_plot = housing_units.plot.bar(label=\" Housing Units per Year\", ylim=[370000, 385000])\n",
    "    \n",
    "    plt.close(housing_units_fig)\n",
    "    \n",
    "    return pn.pane.Matplotlib(housing_unit_fig)\n",
    "    "
   ]
  },
  {
   "cell_type": "code",
   "execution_count": 36,
   "metadata": {},
   "outputs": [
    {
     "ename": "NameError",
     "evalue": "name 'housing_unit_fig' is not defined",
     "output_type": "error",
     "traceback": [
      "\u001b[1;31m---------------------------------------------------------------------------\u001b[0m",
      "\u001b[1;31mNameError\u001b[0m                                 Traceback (most recent call last)",
      "\u001b[1;32m<ipython-input-36-6d204e4e9ae4>\u001b[0m in \u001b[0;36m<module>\u001b[1;34m\u001b[0m\n\u001b[1;32m----> 1\u001b[1;33m \u001b[0mhousing_units_per_year\u001b[0m\u001b[1;33m(\u001b[0m\u001b[1;33m)\u001b[0m\u001b[1;33m\u001b[0m\u001b[1;33m\u001b[0m\u001b[0m\n\u001b[0m",
      "\u001b[1;32m<ipython-input-35-3593e31db585>\u001b[0m in \u001b[0;36mhousing_units_per_year\u001b[1;34m()\u001b[0m\n\u001b[0;32m     10\u001b[0m     \u001b[0mplt\u001b[0m\u001b[1;33m.\u001b[0m\u001b[0mclose\u001b[0m\u001b[1;33m(\u001b[0m\u001b[0mhousing_units_fig\u001b[0m\u001b[1;33m)\u001b[0m\u001b[1;33m\u001b[0m\u001b[1;33m\u001b[0m\u001b[0m\n\u001b[0;32m     11\u001b[0m \u001b[1;33m\u001b[0m\u001b[0m\n\u001b[1;32m---> 12\u001b[1;33m     \u001b[1;32mreturn\u001b[0m \u001b[0mpn\u001b[0m\u001b[1;33m.\u001b[0m\u001b[0mpane\u001b[0m\u001b[1;33m.\u001b[0m\u001b[0mMatplotlib\u001b[0m\u001b[1;33m(\u001b[0m\u001b[0mhousing_unit_fig\u001b[0m\u001b[1;33m)\u001b[0m\u001b[1;33m\u001b[0m\u001b[1;33m\u001b[0m\u001b[0m\n\u001b[0m\u001b[0;32m     13\u001b[0m \u001b[1;33m\u001b[0m\u001b[0m\n",
      "\u001b[1;31mNameError\u001b[0m: name 'housing_unit_fig' is not defined"
     ]
    }
   ],
   "source": [
    "housing_units_per_year()"
   ]
  },
  {
   "cell_type": "code",
   "execution_count": 37,
   "metadata": {},
   "outputs": [
    {
     "ename": "NameError",
     "evalue": "name 'average_gross_rent' is not defined",
     "output_type": "error",
     "traceback": [
      "\u001b[1;31m---------------------------------------------------------------------------\u001b[0m",
      "\u001b[1;31mNameError\u001b[0m                                 Traceback (most recent call last)",
      "\u001b[1;32m<ipython-input-37-20bc25dddb2e>\u001b[0m in \u001b[0;36m<module>\u001b[1;34m\u001b[0m\n\u001b[1;32m----> 1\u001b[1;33m \u001b[0maverage_gross_rent\u001b[0m\u001b[1;33m(\u001b[0m\u001b[1;33m)\u001b[0m\u001b[1;33m\u001b[0m\u001b[1;33m\u001b[0m\u001b[0m\n\u001b[0m",
      "\u001b[1;31mNameError\u001b[0m: name 'average_gross_rent' is not defined"
     ]
    }
   ],
   "source": [
    "average_gross_rent()"
   ]
  },
  {
   "cell_type": "code",
   "execution_count": null,
   "metadata": {},
   "outputs": [],
   "source": [
    "# average_sales_price()"
   ]
  },
  {
   "cell_type": "code",
   "execution_count": null,
   "metadata": {},
   "outputs": [],
   "source": [
    "# average_price_by_neighborhood()"
   ]
  },
  {
   "cell_type": "code",
   "execution_count": null,
   "metadata": {},
   "outputs": [],
   "source": [
    "# top_most_expensive_neighborhoods()"
   ]
  },
  {
   "cell_type": "code",
   "execution_count": null,
   "metadata": {},
   "outputs": [],
   "source": [
    "# most_expensive_neighborhoods_rent_sales()"
   ]
  },
  {
   "cell_type": "code",
   "execution_count": null,
   "metadata": {},
   "outputs": [],
   "source": [
    "# neighborhood_map().show()"
   ]
  },
  {
   "cell_type": "code",
   "execution_count": null,
   "metadata": {},
   "outputs": [],
   "source": [
    "# parallel_categories()"
   ]
  },
  {
   "cell_type": "code",
   "execution_count": null,
   "metadata": {},
   "outputs": [],
   "source": [
    "# parallel_coordinates()"
   ]
  },
  {
   "cell_type": "code",
   "execution_count": null,
   "metadata": {},
   "outputs": [],
   "source": [
    "# sunburst()"
   ]
  },
  {
   "cell_type": "code",
   "execution_count": null,
   "metadata": {},
   "outputs": [],
   "source": []
  }
 ],
 "metadata": {
  "file_extension": ".py",
  "kernelspec": {
   "display_name": "Python 3",
   "language": "python",
   "name": "python3"
  },
  "language_info": {
   "codemirror_mode": {
    "name": "ipython",
    "version": 3
   },
   "file_extension": ".py",
   "mimetype": "text/x-python",
   "name": "python",
   "nbconvert_exporter": "python",
   "pygments_lexer": "ipython3",
   "version": "3.7.9"
  },
  "mimetype": "text/x-python",
  "name": "python",
  "npconvert_exporter": "python",
  "pygments_lexer": "ipython3",
  "version": 3
 },
 "nbformat": 4,
 "nbformat_minor": 4
}
